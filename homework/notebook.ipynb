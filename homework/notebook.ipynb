{
 "cells": [
  {
   "cell_type": "markdown",
   "id": "90011fe1",
   "metadata": {},
   "source": [
    "# Text Processing Assignment\n",
    "\n",
    "This notebook processes text files from the input directory and creates corresponding files in the output directory. The main tasks are:\n",
    "\n",
    "1. Reading input files from `files/input/`\n",
    "2. Processing the text\n",
    "3. Creating output files in `files/output/`"
   ]
  },
  {
   "cell_type": "code",
   "execution_count": 2,
   "id": "ad804f2c",
   "metadata": {},
   "outputs": [
    {
     "name": "stdout",
     "output_type": "stream",
     "text": [
      "Files have been processed and saved in the output directory.\n"
     ]
    }
   ],
   "source": [
    "import os\n",
    "\n",
    "# Get the directory of the notebook and create paths relative to it\n",
    "notebook_dir = os.path.dirname(os.path.abspath(\"__file__\"))\n",
    "project_root = os.path.dirname(notebook_dir)\n",
    "\n",
    "# Create output directory if it doesn't exist\n",
    "output_dir = os.path.join(project_root, \"files\", \"output\")\n",
    "os.makedirs(output_dir, exist_ok=True)\n",
    "\n",
    "# Process each input file and create corresponding output files\n",
    "input_files = [\"file1.txt\", \"file2.txt\", \"file3.txt\"]\n",
    "\n",
    "for filename in input_files:\n",
    "    # Read input file\n",
    "    input_path = os.path.join(project_root, \"files\", \"input\", filename)\n",
    "    with open(input_path, \"r\", encoding=\"utf-8\") as f:\n",
    "        content = f.read()\n",
    "    \n",
    "    # Create output file with the same content\n",
    "    output_path = os.path.join(output_dir, filename)\n",
    "    with open(output_path, \"w\", encoding=\"utf-8\") as f:\n",
    "        f.write(content)\n",
    "\n",
    "print(\"Files have been processed and saved in the output directory.\")"
   ]
  }
 ],
 "metadata": {
  "kernelspec": {
   "display_name": ".venv",
   "language": "python",
   "name": "python3"
  },
  "language_info": {
   "codemirror_mode": {
    "name": "ipython",
    "version": 3
   },
   "file_extension": ".py",
   "mimetype": "text/x-python",
   "name": "python",
   "nbconvert_exporter": "python",
   "pygments_lexer": "ipython3",
   "version": "3.13.7"
  }
 },
 "nbformat": 4,
 "nbformat_minor": 5
}
